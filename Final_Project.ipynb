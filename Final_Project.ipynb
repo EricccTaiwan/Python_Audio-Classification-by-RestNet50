{
  "nbformat": 4,
  "nbformat_minor": 0,
  "metadata": {
    "colab": {
      "name": "Final Project.ipynb",
      "provenance": [],
      "collapsed_sections": []
    },
    "kernelspec": {
      "name": "python3",
      "display_name": "Python 3"
    },
    "language_info": {
      "name": "python"
    },
    "accelerator": "GPU",
    "widgets": {
      "application/vnd.jupyter.widget-state+json": {
        "bd89b3f9c5e24a83a544bea33cd9dbb7": {
          "model_module": "@jupyter-widgets/controls",
          "model_name": "HBoxModel",
          "model_module_version": "1.5.0",
          "state": {
            "_view_name": "HBoxView",
            "_dom_classes": [],
            "_model_name": "HBoxModel",
            "_view_module": "@jupyter-widgets/controls",
            "_model_module_version": "1.5.0",
            "_view_count": null,
            "_view_module_version": "1.5.0",
            "box_style": "",
            "layout": "IPY_MODEL_c27d52249c3d4cf2ba00dc87110c9339",
            "_model_module": "@jupyter-widgets/controls",
            "children": [
              "IPY_MODEL_00539239fcbf4f8a92db8dc1f72197a6",
              "IPY_MODEL_9be4864129354f8d81e8bca53eb75d25",
              "IPY_MODEL_02cb8073dfd14a9c89d354f3a41b9327"
            ]
          }
        },
        "c27d52249c3d4cf2ba00dc87110c9339": {
          "model_module": "@jupyter-widgets/base",
          "model_name": "LayoutModel",
          "model_module_version": "1.2.0",
          "state": {
            "_view_name": "LayoutView",
            "grid_template_rows": null,
            "right": null,
            "justify_content": null,
            "_view_module": "@jupyter-widgets/base",
            "overflow": null,
            "_model_module_version": "1.2.0",
            "_view_count": null,
            "flex_flow": null,
            "width": null,
            "min_width": null,
            "border": null,
            "align_items": null,
            "bottom": null,
            "_model_module": "@jupyter-widgets/base",
            "top": null,
            "grid_column": null,
            "overflow_y": null,
            "overflow_x": null,
            "grid_auto_flow": null,
            "grid_area": null,
            "grid_template_columns": null,
            "flex": null,
            "_model_name": "LayoutModel",
            "justify_items": null,
            "grid_row": null,
            "max_height": null,
            "align_content": null,
            "visibility": null,
            "align_self": null,
            "height": null,
            "min_height": null,
            "padding": null,
            "grid_auto_rows": null,
            "grid_gap": null,
            "max_width": null,
            "order": null,
            "_view_module_version": "1.2.0",
            "grid_template_areas": null,
            "object_position": null,
            "object_fit": null,
            "grid_auto_columns": null,
            "margin": null,
            "display": null,
            "left": null
          }
        },
        "00539239fcbf4f8a92db8dc1f72197a6": {
          "model_module": "@jupyter-widgets/controls",
          "model_name": "HTMLModel",
          "model_module_version": "1.5.0",
          "state": {
            "_view_name": "HTMLView",
            "style": "IPY_MODEL_f8bfff4fe1274265b7c510ca8abd0bf2",
            "_dom_classes": [],
            "description": "",
            "_model_name": "HTMLModel",
            "placeholder": "​",
            "_view_module": "@jupyter-widgets/controls",
            "_model_module_version": "1.5.0",
            "value": "100%",
            "_view_count": null,
            "_view_module_version": "1.5.0",
            "description_tooltip": null,
            "_model_module": "@jupyter-widgets/controls",
            "layout": "IPY_MODEL_4d569a5931894d28962f0ed41603cac2"
          }
        },
        "9be4864129354f8d81e8bca53eb75d25": {
          "model_module": "@jupyter-widgets/controls",
          "model_name": "FloatProgressModel",
          "model_module_version": "1.5.0",
          "state": {
            "_view_name": "ProgressView",
            "style": "IPY_MODEL_7514a9efba044ff0af862b0b6b493f0e",
            "_dom_classes": [],
            "description": "",
            "_model_name": "FloatProgressModel",
            "bar_style": "success",
            "max": 1600,
            "_view_module": "@jupyter-widgets/controls",
            "_model_module_version": "1.5.0",
            "value": 1600,
            "_view_count": null,
            "_view_module_version": "1.5.0",
            "orientation": "horizontal",
            "min": 0,
            "description_tooltip": null,
            "_model_module": "@jupyter-widgets/controls",
            "layout": "IPY_MODEL_cdac4cd6a5414bc487e095444decc6a4"
          }
        },
        "02cb8073dfd14a9c89d354f3a41b9327": {
          "model_module": "@jupyter-widgets/controls",
          "model_name": "HTMLModel",
          "model_module_version": "1.5.0",
          "state": {
            "_view_name": "HTMLView",
            "style": "IPY_MODEL_4f643c16bf9046b3a152ff5fc5d6c52e",
            "_dom_classes": [],
            "description": "",
            "_model_name": "HTMLModel",
            "placeholder": "​",
            "_view_module": "@jupyter-widgets/controls",
            "_model_module_version": "1.5.0",
            "value": " 1600/1600 [01:07&lt;00:00, 30.14it/s]",
            "_view_count": null,
            "_view_module_version": "1.5.0",
            "description_tooltip": null,
            "_model_module": "@jupyter-widgets/controls",
            "layout": "IPY_MODEL_6639b84d0a86469f9bd41798951833cb"
          }
        },
        "f8bfff4fe1274265b7c510ca8abd0bf2": {
          "model_module": "@jupyter-widgets/controls",
          "model_name": "DescriptionStyleModel",
          "model_module_version": "1.5.0",
          "state": {
            "_view_name": "StyleView",
            "_model_name": "DescriptionStyleModel",
            "description_width": "",
            "_view_module": "@jupyter-widgets/base",
            "_model_module_version": "1.5.0",
            "_view_count": null,
            "_view_module_version": "1.2.0",
            "_model_module": "@jupyter-widgets/controls"
          }
        },
        "4d569a5931894d28962f0ed41603cac2": {
          "model_module": "@jupyter-widgets/base",
          "model_name": "LayoutModel",
          "model_module_version": "1.2.0",
          "state": {
            "_view_name": "LayoutView",
            "grid_template_rows": null,
            "right": null,
            "justify_content": null,
            "_view_module": "@jupyter-widgets/base",
            "overflow": null,
            "_model_module_version": "1.2.0",
            "_view_count": null,
            "flex_flow": null,
            "width": null,
            "min_width": null,
            "border": null,
            "align_items": null,
            "bottom": null,
            "_model_module": "@jupyter-widgets/base",
            "top": null,
            "grid_column": null,
            "overflow_y": null,
            "overflow_x": null,
            "grid_auto_flow": null,
            "grid_area": null,
            "grid_template_columns": null,
            "flex": null,
            "_model_name": "LayoutModel",
            "justify_items": null,
            "grid_row": null,
            "max_height": null,
            "align_content": null,
            "visibility": null,
            "align_self": null,
            "height": null,
            "min_height": null,
            "padding": null,
            "grid_auto_rows": null,
            "grid_gap": null,
            "max_width": null,
            "order": null,
            "_view_module_version": "1.2.0",
            "grid_template_areas": null,
            "object_position": null,
            "object_fit": null,
            "grid_auto_columns": null,
            "margin": null,
            "display": null,
            "left": null
          }
        },
        "7514a9efba044ff0af862b0b6b493f0e": {
          "model_module": "@jupyter-widgets/controls",
          "model_name": "ProgressStyleModel",
          "model_module_version": "1.5.0",
          "state": {
            "_view_name": "StyleView",
            "_model_name": "ProgressStyleModel",
            "description_width": "",
            "_view_module": "@jupyter-widgets/base",
            "_model_module_version": "1.5.0",
            "_view_count": null,
            "_view_module_version": "1.2.0",
            "bar_color": null,
            "_model_module": "@jupyter-widgets/controls"
          }
        },
        "cdac4cd6a5414bc487e095444decc6a4": {
          "model_module": "@jupyter-widgets/base",
          "model_name": "LayoutModel",
          "model_module_version": "1.2.0",
          "state": {
            "_view_name": "LayoutView",
            "grid_template_rows": null,
            "right": null,
            "justify_content": null,
            "_view_module": "@jupyter-widgets/base",
            "overflow": null,
            "_model_module_version": "1.2.0",
            "_view_count": null,
            "flex_flow": null,
            "width": null,
            "min_width": null,
            "border": null,
            "align_items": null,
            "bottom": null,
            "_model_module": "@jupyter-widgets/base",
            "top": null,
            "grid_column": null,
            "overflow_y": null,
            "overflow_x": null,
            "grid_auto_flow": null,
            "grid_area": null,
            "grid_template_columns": null,
            "flex": null,
            "_model_name": "LayoutModel",
            "justify_items": null,
            "grid_row": null,
            "max_height": null,
            "align_content": null,
            "visibility": null,
            "align_self": null,
            "height": null,
            "min_height": null,
            "padding": null,
            "grid_auto_rows": null,
            "grid_gap": null,
            "max_width": null,
            "order": null,
            "_view_module_version": "1.2.0",
            "grid_template_areas": null,
            "object_position": null,
            "object_fit": null,
            "grid_auto_columns": null,
            "margin": null,
            "display": null,
            "left": null
          }
        },
        "4f643c16bf9046b3a152ff5fc5d6c52e": {
          "model_module": "@jupyter-widgets/controls",
          "model_name": "DescriptionStyleModel",
          "model_module_version": "1.5.0",
          "state": {
            "_view_name": "StyleView",
            "_model_name": "DescriptionStyleModel",
            "description_width": "",
            "_view_module": "@jupyter-widgets/base",
            "_model_module_version": "1.5.0",
            "_view_count": null,
            "_view_module_version": "1.2.0",
            "_model_module": "@jupyter-widgets/controls"
          }
        },
        "6639b84d0a86469f9bd41798951833cb": {
          "model_module": "@jupyter-widgets/base",
          "model_name": "LayoutModel",
          "model_module_version": "1.2.0",
          "state": {
            "_view_name": "LayoutView",
            "grid_template_rows": null,
            "right": null,
            "justify_content": null,
            "_view_module": "@jupyter-widgets/base",
            "overflow": null,
            "_model_module_version": "1.2.0",
            "_view_count": null,
            "flex_flow": null,
            "width": null,
            "min_width": null,
            "border": null,
            "align_items": null,
            "bottom": null,
            "_model_module": "@jupyter-widgets/base",
            "top": null,
            "grid_column": null,
            "overflow_y": null,
            "overflow_x": null,
            "grid_auto_flow": null,
            "grid_area": null,
            "grid_template_columns": null,
            "flex": null,
            "_model_name": "LayoutModel",
            "justify_items": null,
            "grid_row": null,
            "max_height": null,
            "align_content": null,
            "visibility": null,
            "align_self": null,
            "height": null,
            "min_height": null,
            "padding": null,
            "grid_auto_rows": null,
            "grid_gap": null,
            "max_width": null,
            "order": null,
            "_view_module_version": "1.2.0",
            "grid_template_areas": null,
            "object_position": null,
            "object_fit": null,
            "grid_auto_columns": null,
            "margin": null,
            "display": null,
            "left": null
          }
        },
        "46f2a802cd744955a57babfd05e39686": {
          "model_module": "@jupyter-widgets/controls",
          "model_name": "HBoxModel",
          "model_module_version": "1.5.0",
          "state": {
            "_view_name": "HBoxView",
            "_dom_classes": [],
            "_model_name": "HBoxModel",
            "_view_module": "@jupyter-widgets/controls",
            "_model_module_version": "1.5.0",
            "_view_count": null,
            "_view_module_version": "1.5.0",
            "box_style": "",
            "layout": "IPY_MODEL_f7605673ed324fafb392c30f2d03d180",
            "_model_module": "@jupyter-widgets/controls",
            "children": [
              "IPY_MODEL_f6851c10704544ea9d1773c877e50f13",
              "IPY_MODEL_17737e249f2f41eba3ead6b04d1f1ad4",
              "IPY_MODEL_4bc771f94df34e719d029b23a3f4f6f7"
            ]
          }
        },
        "f7605673ed324fafb392c30f2d03d180": {
          "model_module": "@jupyter-widgets/base",
          "model_name": "LayoutModel",
          "model_module_version": "1.2.0",
          "state": {
            "_view_name": "LayoutView",
            "grid_template_rows": null,
            "right": null,
            "justify_content": null,
            "_view_module": "@jupyter-widgets/base",
            "overflow": null,
            "_model_module_version": "1.2.0",
            "_view_count": null,
            "flex_flow": null,
            "width": null,
            "min_width": null,
            "border": null,
            "align_items": null,
            "bottom": null,
            "_model_module": "@jupyter-widgets/base",
            "top": null,
            "grid_column": null,
            "overflow_y": null,
            "overflow_x": null,
            "grid_auto_flow": null,
            "grid_area": null,
            "grid_template_columns": null,
            "flex": null,
            "_model_name": "LayoutModel",
            "justify_items": null,
            "grid_row": null,
            "max_height": null,
            "align_content": null,
            "visibility": null,
            "align_self": null,
            "height": null,
            "min_height": null,
            "padding": null,
            "grid_auto_rows": null,
            "grid_gap": null,
            "max_width": null,
            "order": null,
            "_view_module_version": "1.2.0",
            "grid_template_areas": null,
            "object_position": null,
            "object_fit": null,
            "grid_auto_columns": null,
            "margin": null,
            "display": null,
            "left": null
          }
        },
        "f6851c10704544ea9d1773c877e50f13": {
          "model_module": "@jupyter-widgets/controls",
          "model_name": "HTMLModel",
          "model_module_version": "1.5.0",
          "state": {
            "_view_name": "HTMLView",
            "style": "IPY_MODEL_cb0a6381dd4447beb2719abbc0665660",
            "_dom_classes": [],
            "description": "",
            "_model_name": "HTMLModel",
            "placeholder": "​",
            "_view_module": "@jupyter-widgets/controls",
            "_model_module_version": "1.5.0",
            "value": "100%",
            "_view_count": null,
            "_view_module_version": "1.5.0",
            "description_tooltip": null,
            "_model_module": "@jupyter-widgets/controls",
            "layout": "IPY_MODEL_02a5a023ac29407d843ee3304deefbc3"
          }
        },
        "17737e249f2f41eba3ead6b04d1f1ad4": {
          "model_module": "@jupyter-widgets/controls",
          "model_name": "FloatProgressModel",
          "model_module_version": "1.5.0",
          "state": {
            "_view_name": "ProgressView",
            "style": "IPY_MODEL_bbf1a936f80a47e69510e3d1b68ad0d4",
            "_dom_classes": [],
            "description": "",
            "_model_name": "FloatProgressModel",
            "bar_style": "success",
            "max": 400,
            "_view_module": "@jupyter-widgets/controls",
            "_model_module_version": "1.5.0",
            "value": 400,
            "_view_count": null,
            "_view_module_version": "1.5.0",
            "orientation": "horizontal",
            "min": 0,
            "description_tooltip": null,
            "_model_module": "@jupyter-widgets/controls",
            "layout": "IPY_MODEL_9e495560bdcc436cadaddf196d391d5e"
          }
        },
        "4bc771f94df34e719d029b23a3f4f6f7": {
          "model_module": "@jupyter-widgets/controls",
          "model_name": "HTMLModel",
          "model_module_version": "1.5.0",
          "state": {
            "_view_name": "HTMLView",
            "style": "IPY_MODEL_be89b2f16e96416487c160a338af21eb",
            "_dom_classes": [],
            "description": "",
            "_model_name": "HTMLModel",
            "placeholder": "​",
            "_view_module": "@jupyter-widgets/controls",
            "_model_module_version": "1.5.0",
            "value": " 400/400 [00:14&lt;00:00, 27.18it/s]",
            "_view_count": null,
            "_view_module_version": "1.5.0",
            "description_tooltip": null,
            "_model_module": "@jupyter-widgets/controls",
            "layout": "IPY_MODEL_2338f3a7753344c8aed510158fa03a84"
          }
        },
        "cb0a6381dd4447beb2719abbc0665660": {
          "model_module": "@jupyter-widgets/controls",
          "model_name": "DescriptionStyleModel",
          "model_module_version": "1.5.0",
          "state": {
            "_view_name": "StyleView",
            "_model_name": "DescriptionStyleModel",
            "description_width": "",
            "_view_module": "@jupyter-widgets/base",
            "_model_module_version": "1.5.0",
            "_view_count": null,
            "_view_module_version": "1.2.0",
            "_model_module": "@jupyter-widgets/controls"
          }
        },
        "02a5a023ac29407d843ee3304deefbc3": {
          "model_module": "@jupyter-widgets/base",
          "model_name": "LayoutModel",
          "model_module_version": "1.2.0",
          "state": {
            "_view_name": "LayoutView",
            "grid_template_rows": null,
            "right": null,
            "justify_content": null,
            "_view_module": "@jupyter-widgets/base",
            "overflow": null,
            "_model_module_version": "1.2.0",
            "_view_count": null,
            "flex_flow": null,
            "width": null,
            "min_width": null,
            "border": null,
            "align_items": null,
            "bottom": null,
            "_model_module": "@jupyter-widgets/base",
            "top": null,
            "grid_column": null,
            "overflow_y": null,
            "overflow_x": null,
            "grid_auto_flow": null,
            "grid_area": null,
            "grid_template_columns": null,
            "flex": null,
            "_model_name": "LayoutModel",
            "justify_items": null,
            "grid_row": null,
            "max_height": null,
            "align_content": null,
            "visibility": null,
            "align_self": null,
            "height": null,
            "min_height": null,
            "padding": null,
            "grid_auto_rows": null,
            "grid_gap": null,
            "max_width": null,
            "order": null,
            "_view_module_version": "1.2.0",
            "grid_template_areas": null,
            "object_position": null,
            "object_fit": null,
            "grid_auto_columns": null,
            "margin": null,
            "display": null,
            "left": null
          }
        },
        "bbf1a936f80a47e69510e3d1b68ad0d4": {
          "model_module": "@jupyter-widgets/controls",
          "model_name": "ProgressStyleModel",
          "model_module_version": "1.5.0",
          "state": {
            "_view_name": "StyleView",
            "_model_name": "ProgressStyleModel",
            "description_width": "",
            "_view_module": "@jupyter-widgets/base",
            "_model_module_version": "1.5.0",
            "_view_count": null,
            "_view_module_version": "1.2.0",
            "bar_color": null,
            "_model_module": "@jupyter-widgets/controls"
          }
        },
        "9e495560bdcc436cadaddf196d391d5e": {
          "model_module": "@jupyter-widgets/base",
          "model_name": "LayoutModel",
          "model_module_version": "1.2.0",
          "state": {
            "_view_name": "LayoutView",
            "grid_template_rows": null,
            "right": null,
            "justify_content": null,
            "_view_module": "@jupyter-widgets/base",
            "overflow": null,
            "_model_module_version": "1.2.0",
            "_view_count": null,
            "flex_flow": null,
            "width": null,
            "min_width": null,
            "border": null,
            "align_items": null,
            "bottom": null,
            "_model_module": "@jupyter-widgets/base",
            "top": null,
            "grid_column": null,
            "overflow_y": null,
            "overflow_x": null,
            "grid_auto_flow": null,
            "grid_area": null,
            "grid_template_columns": null,
            "flex": null,
            "_model_name": "LayoutModel",
            "justify_items": null,
            "grid_row": null,
            "max_height": null,
            "align_content": null,
            "visibility": null,
            "align_self": null,
            "height": null,
            "min_height": null,
            "padding": null,
            "grid_auto_rows": null,
            "grid_gap": null,
            "max_width": null,
            "order": null,
            "_view_module_version": "1.2.0",
            "grid_template_areas": null,
            "object_position": null,
            "object_fit": null,
            "grid_auto_columns": null,
            "margin": null,
            "display": null,
            "left": null
          }
        },
        "be89b2f16e96416487c160a338af21eb": {
          "model_module": "@jupyter-widgets/controls",
          "model_name": "DescriptionStyleModel",
          "model_module_version": "1.5.0",
          "state": {
            "_view_name": "StyleView",
            "_model_name": "DescriptionStyleModel",
            "description_width": "",
            "_view_module": "@jupyter-widgets/base",
            "_model_module_version": "1.5.0",
            "_view_count": null,
            "_view_module_version": "1.2.0",
            "_model_module": "@jupyter-widgets/controls"
          }
        },
        "2338f3a7753344c8aed510158fa03a84": {
          "model_module": "@jupyter-widgets/base",
          "model_name": "LayoutModel",
          "model_module_version": "1.2.0",
          "state": {
            "_view_name": "LayoutView",
            "grid_template_rows": null,
            "right": null,
            "justify_content": null,
            "_view_module": "@jupyter-widgets/base",
            "overflow": null,
            "_model_module_version": "1.2.0",
            "_view_count": null,
            "flex_flow": null,
            "width": null,
            "min_width": null,
            "border": null,
            "align_items": null,
            "bottom": null,
            "_model_module": "@jupyter-widgets/base",
            "top": null,
            "grid_column": null,
            "overflow_y": null,
            "overflow_x": null,
            "grid_auto_flow": null,
            "grid_area": null,
            "grid_template_columns": null,
            "flex": null,
            "_model_name": "LayoutModel",
            "justify_items": null,
            "grid_row": null,
            "max_height": null,
            "align_content": null,
            "visibility": null,
            "align_self": null,
            "height": null,
            "min_height": null,
            "padding": null,
            "grid_auto_rows": null,
            "grid_gap": null,
            "max_width": null,
            "order": null,
            "_view_module_version": "1.2.0",
            "grid_template_areas": null,
            "object_position": null,
            "object_fit": null,
            "grid_auto_columns": null,
            "margin": null,
            "display": null,
            "left": null
          }
        },
        "b70c5d82574c4aefaccceaac99789065": {
          "model_module": "@jupyter-widgets/controls",
          "model_name": "HBoxModel",
          "model_module_version": "1.5.0",
          "state": {
            "_view_name": "HBoxView",
            "_dom_classes": [],
            "_model_name": "HBoxModel",
            "_view_module": "@jupyter-widgets/controls",
            "_model_module_version": "1.5.0",
            "_view_count": null,
            "_view_module_version": "1.5.0",
            "box_style": "",
            "layout": "IPY_MODEL_fd96133ab3ed461bb2a8764ef4bda112",
            "_model_module": "@jupyter-widgets/controls",
            "children": [
              "IPY_MODEL_c2c109051a524d4d919cf4ce9e1e223c",
              "IPY_MODEL_3e3d323d53f140c385776e3cc4f94755",
              "IPY_MODEL_6e873dc3116648898c7861bddfda48d9"
            ]
          }
        },
        "fd96133ab3ed461bb2a8764ef4bda112": {
          "model_module": "@jupyter-widgets/base",
          "model_name": "LayoutModel",
          "model_module_version": "1.2.0",
          "state": {
            "_view_name": "LayoutView",
            "grid_template_rows": null,
            "right": null,
            "justify_content": null,
            "_view_module": "@jupyter-widgets/base",
            "overflow": null,
            "_model_module_version": "1.2.0",
            "_view_count": null,
            "flex_flow": null,
            "width": null,
            "min_width": null,
            "border": null,
            "align_items": null,
            "bottom": null,
            "_model_module": "@jupyter-widgets/base",
            "top": null,
            "grid_column": null,
            "overflow_y": null,
            "overflow_x": null,
            "grid_auto_flow": null,
            "grid_area": null,
            "grid_template_columns": null,
            "flex": null,
            "_model_name": "LayoutModel",
            "justify_items": null,
            "grid_row": null,
            "max_height": null,
            "align_content": null,
            "visibility": null,
            "align_self": null,
            "height": null,
            "min_height": null,
            "padding": null,
            "grid_auto_rows": null,
            "grid_gap": null,
            "max_width": null,
            "order": null,
            "_view_module_version": "1.2.0",
            "grid_template_areas": null,
            "object_position": null,
            "object_fit": null,
            "grid_auto_columns": null,
            "margin": null,
            "display": null,
            "left": null
          }
        },
        "c2c109051a524d4d919cf4ce9e1e223c": {
          "model_module": "@jupyter-widgets/controls",
          "model_name": "HTMLModel",
          "model_module_version": "1.5.0",
          "state": {
            "_view_name": "HTMLView",
            "style": "IPY_MODEL_6243747c006e4b488d141e6b05be2a2b",
            "_dom_classes": [],
            "description": "",
            "_model_name": "HTMLModel",
            "placeholder": "​",
            "_view_module": "@jupyter-widgets/controls",
            "_model_module_version": "1.5.0",
            "value": "100%",
            "_view_count": null,
            "_view_module_version": "1.5.0",
            "description_tooltip": null,
            "_model_module": "@jupyter-widgets/controls",
            "layout": "IPY_MODEL_8d4717d46d6044cfb5ecdf92f724618c"
          }
        },
        "3e3d323d53f140c385776e3cc4f94755": {
          "model_module": "@jupyter-widgets/controls",
          "model_name": "FloatProgressModel",
          "model_module_version": "1.5.0",
          "state": {
            "_view_name": "ProgressView",
            "style": "IPY_MODEL_0adaf170980b43a8b13748e33723aa03",
            "_dom_classes": [],
            "description": "",
            "_model_name": "FloatProgressModel",
            "bar_style": "success",
            "max": 100,
            "_view_module": "@jupyter-widgets/controls",
            "_model_module_version": "1.5.0",
            "value": 100,
            "_view_count": null,
            "_view_module_version": "1.5.0",
            "orientation": "horizontal",
            "min": 0,
            "description_tooltip": null,
            "_model_module": "@jupyter-widgets/controls",
            "layout": "IPY_MODEL_8607b2828b57491b8eb4c53f58a671fa"
          }
        },
        "6e873dc3116648898c7861bddfda48d9": {
          "model_module": "@jupyter-widgets/controls",
          "model_name": "HTMLModel",
          "model_module_version": "1.5.0",
          "state": {
            "_view_name": "HTMLView",
            "style": "IPY_MODEL_dbb2f4b27032420690d451d0c1e026d5",
            "_dom_classes": [],
            "description": "",
            "_model_name": "HTMLModel",
            "placeholder": "​",
            "_view_module": "@jupyter-widgets/controls",
            "_model_module_version": "1.5.0",
            "value": " 100/100 [20:11&lt;00:00, 12.08s/it]",
            "_view_count": null,
            "_view_module_version": "1.5.0",
            "description_tooltip": null,
            "_model_module": "@jupyter-widgets/controls",
            "layout": "IPY_MODEL_0bf60ab51f0e4623a072a3040a79e484"
          }
        },
        "6243747c006e4b488d141e6b05be2a2b": {
          "model_module": "@jupyter-widgets/controls",
          "model_name": "DescriptionStyleModel",
          "model_module_version": "1.5.0",
          "state": {
            "_view_name": "StyleView",
            "_model_name": "DescriptionStyleModel",
            "description_width": "",
            "_view_module": "@jupyter-widgets/base",
            "_model_module_version": "1.5.0",
            "_view_count": null,
            "_view_module_version": "1.2.0",
            "_model_module": "@jupyter-widgets/controls"
          }
        },
        "8d4717d46d6044cfb5ecdf92f724618c": {
          "model_module": "@jupyter-widgets/base",
          "model_name": "LayoutModel",
          "model_module_version": "1.2.0",
          "state": {
            "_view_name": "LayoutView",
            "grid_template_rows": null,
            "right": null,
            "justify_content": null,
            "_view_module": "@jupyter-widgets/base",
            "overflow": null,
            "_model_module_version": "1.2.0",
            "_view_count": null,
            "flex_flow": null,
            "width": null,
            "min_width": null,
            "border": null,
            "align_items": null,
            "bottom": null,
            "_model_module": "@jupyter-widgets/base",
            "top": null,
            "grid_column": null,
            "overflow_y": null,
            "overflow_x": null,
            "grid_auto_flow": null,
            "grid_area": null,
            "grid_template_columns": null,
            "flex": null,
            "_model_name": "LayoutModel",
            "justify_items": null,
            "grid_row": null,
            "max_height": null,
            "align_content": null,
            "visibility": null,
            "align_self": null,
            "height": null,
            "min_height": null,
            "padding": null,
            "grid_auto_rows": null,
            "grid_gap": null,
            "max_width": null,
            "order": null,
            "_view_module_version": "1.2.0",
            "grid_template_areas": null,
            "object_position": null,
            "object_fit": null,
            "grid_auto_columns": null,
            "margin": null,
            "display": null,
            "left": null
          }
        },
        "0adaf170980b43a8b13748e33723aa03": {
          "model_module": "@jupyter-widgets/controls",
          "model_name": "ProgressStyleModel",
          "model_module_version": "1.5.0",
          "state": {
            "_view_name": "StyleView",
            "_model_name": "ProgressStyleModel",
            "description_width": "",
            "_view_module": "@jupyter-widgets/base",
            "_model_module_version": "1.5.0",
            "_view_count": null,
            "_view_module_version": "1.2.0",
            "bar_color": null,
            "_model_module": "@jupyter-widgets/controls"
          }
        },
        "8607b2828b57491b8eb4c53f58a671fa": {
          "model_module": "@jupyter-widgets/base",
          "model_name": "LayoutModel",
          "model_module_version": "1.2.0",
          "state": {
            "_view_name": "LayoutView",
            "grid_template_rows": null,
            "right": null,
            "justify_content": null,
            "_view_module": "@jupyter-widgets/base",
            "overflow": null,
            "_model_module_version": "1.2.0",
            "_view_count": null,
            "flex_flow": null,
            "width": null,
            "min_width": null,
            "border": null,
            "align_items": null,
            "bottom": null,
            "_model_module": "@jupyter-widgets/base",
            "top": null,
            "grid_column": null,
            "overflow_y": null,
            "overflow_x": null,
            "grid_auto_flow": null,
            "grid_area": null,
            "grid_template_columns": null,
            "flex": null,
            "_model_name": "LayoutModel",
            "justify_items": null,
            "grid_row": null,
            "max_height": null,
            "align_content": null,
            "visibility": null,
            "align_self": null,
            "height": null,
            "min_height": null,
            "padding": null,
            "grid_auto_rows": null,
            "grid_gap": null,
            "max_width": null,
            "order": null,
            "_view_module_version": "1.2.0",
            "grid_template_areas": null,
            "object_position": null,
            "object_fit": null,
            "grid_auto_columns": null,
            "margin": null,
            "display": null,
            "left": null
          }
        },
        "dbb2f4b27032420690d451d0c1e026d5": {
          "model_module": "@jupyter-widgets/controls",
          "model_name": "DescriptionStyleModel",
          "model_module_version": "1.5.0",
          "state": {
            "_view_name": "StyleView",
            "_model_name": "DescriptionStyleModel",
            "description_width": "",
            "_view_module": "@jupyter-widgets/base",
            "_model_module_version": "1.5.0",
            "_view_count": null,
            "_view_module_version": "1.2.0",
            "_model_module": "@jupyter-widgets/controls"
          }
        },
        "0bf60ab51f0e4623a072a3040a79e484": {
          "model_module": "@jupyter-widgets/base",
          "model_name": "LayoutModel",
          "model_module_version": "1.2.0",
          "state": {
            "_view_name": "LayoutView",
            "grid_template_rows": null,
            "right": null,
            "justify_content": null,
            "_view_module": "@jupyter-widgets/base",
            "overflow": null,
            "_model_module_version": "1.2.0",
            "_view_count": null,
            "flex_flow": null,
            "width": null,
            "min_width": null,
            "border": null,
            "align_items": null,
            "bottom": null,
            "_model_module": "@jupyter-widgets/base",
            "top": null,
            "grid_column": null,
            "overflow_y": null,
            "overflow_x": null,
            "grid_auto_flow": null,
            "grid_area": null,
            "grid_template_columns": null,
            "flex": null,
            "_model_name": "LayoutModel",
            "justify_items": null,
            "grid_row": null,
            "max_height": null,
            "align_content": null,
            "visibility": null,
            "align_self": null,
            "height": null,
            "min_height": null,
            "padding": null,
            "grid_auto_rows": null,
            "grid_gap": null,
            "max_width": null,
            "order": null,
            "_view_module_version": "1.2.0",
            "grid_template_areas": null,
            "object_position": null,
            "object_fit": null,
            "grid_auto_columns": null,
            "margin": null,
            "display": null,
            "left": null
          }
        }
      }
    }
  },
  "cells": [
    {
      "cell_type": "markdown",
      "source": [
        "# **Import Some Packages**"
      ],
      "metadata": {
        "id": "whHWEh4Zcn1t"
      }
    },
    {
      "cell_type": "code",
      "source": [
        "import pandas as pd\n",
        "import librosa\n",
        "import numpy as np\n",
        "import matplotlib.pyplot as plt\n",
        "import librosa.display\n",
        "import torch\n",
        "import torch.nn as nn\n",
        "import torch.nn.functional as F\n",
        "import torch.optim as optim\n",
        "from torch.utils.data import Dataset, DataLoader\n",
        "from tqdm import tqdm_notebook as tqdm\n",
        "import os"
      ],
      "metadata": {
        "id": "KKaXxMmYGHft"
      },
      "execution_count": null,
      "outputs": []
    },
    {
      "cell_type": "markdown",
      "source": [
        "# **Download Data**"
      ],
      "metadata": {
        "id": "ogSrXXuJazUJ"
      }
    },
    {
      "cell_type": "code",
      "execution_count": null,
      "metadata": {
        "colab": {
          "base_uri": "https://localhost:8080/"
        },
        "id": "kLIbiYLvF8AM",
        "outputId": "7820d27d-8018-4f8f-9056-b0eaf7b61c98"
      },
      "outputs": [
        {
          "output_type": "stream",
          "name": "stdout",
          "text": [
            "--2021-12-29 05:22:30--  https://github.com/karoldvl/ESC-50/archive/master.zip\n",
            "Resolving github.com (github.com)... 192.30.255.112\n",
            "Connecting to github.com (github.com)|192.30.255.112|:443... connected.\n",
            "HTTP request sent, awaiting response... 301 Moved Permanently\n",
            "Location: https://github.com/karolpiczak/ESC-50/archive/master.zip [following]\n",
            "--2021-12-29 05:22:30--  https://github.com/karolpiczak/ESC-50/archive/master.zip\n",
            "Reusing existing connection to github.com:443.\n",
            "HTTP request sent, awaiting response... 302 Found\n",
            "Location: https://codeload.github.com/karolpiczak/ESC-50/zip/master [following]\n",
            "--2021-12-29 05:22:30--  https://codeload.github.com/karolpiczak/ESC-50/zip/master\n",
            "Resolving codeload.github.com (codeload.github.com)... 192.30.255.120\n",
            "Connecting to codeload.github.com (codeload.github.com)|192.30.255.120|:443... connected.\n",
            "HTTP request sent, awaiting response... 200 OK\n",
            "Length: unspecified [application/zip]\n",
            "Saving to: ‘master.zip’\n",
            "\n",
            "master.zip              [                <=> ] 615.78M  12.3MB/s    in 46s     \n",
            "\n",
            "2021-12-29 05:23:16 (13.4 MB/s) - ‘master.zip’ saved [645694236]\n",
            "\n"
          ]
        }
      ],
      "source": [
        "!test ! -f \"master.zip\" && wget \"https://github.com/karoldvl/ESC-50/archive/master.zip\""
      ]
    },
    {
      "cell_type": "code",
      "source": [
        "!unzip -qq master.zip"
      ],
      "metadata": {
        "id": "atj1qXRLGFHL"
      },
      "execution_count": null,
      "outputs": []
    },
    {
      "cell_type": "markdown",
      "source": [
        "目前工作路徑"
      ],
      "metadata": {
        "id": "VfbXscPtxDZ_"
      }
    },
    {
      "cell_type": "code",
      "source": [
        "%cd ESC-50-master"
      ],
      "metadata": {
        "colab": {
          "base_uri": "https://localhost:8080/"
        },
        "id": "_tmLyQ5BGF12",
        "outputId": "dea6ad87-258b-4eb6-f3f7-b43ff03ae20f"
      },
      "execution_count": null,
      "outputs": [
        {
          "output_type": "stream",
          "name": "stdout",
          "text": [
            "/content/ESC-50-master\n"
          ]
        }
      ]
    },
    {
      "cell_type": "markdown",
      "source": [
        "讀取CVS檔，以便用來分類圖片名稱及所對應的類別 \n",
        ">ex: (filename:1 -100038-A-14.wav >>> target:14\t)\n",
        "\n",
        "\n",
        "\n"
      ],
      "metadata": {
        "id": "9N-bMBYkwhQn"
      }
    },
    {
      "cell_type": "code",
      "source": [
        "df = pd.read_csv('meta/esc50.csv')"
      ],
      "metadata": {
        "id": "za06m8ZhGJTP"
      },
      "execution_count": null,
      "outputs": []
    },
    {
      "cell_type": "code",
      "source": [
        "df.head()"
      ],
      "metadata": {
        "colab": {
          "base_uri": "https://localhost:8080/",
          "height": 204
        },
        "id": "W-9cVV5UGLwP",
        "outputId": "21fd0793-1084-4fde-9c29-dc113b939e41"
      },
      "execution_count": null,
      "outputs": [
        {
          "output_type": "execute_result",
          "data": {
            "text/html": [
              "\n",
              "  <div id=\"df-e390b297-a549-4919-b8f6-4e2b594c5feb\">\n",
              "    <div class=\"colab-df-container\">\n",
              "      <div>\n",
              "<style scoped>\n",
              "    .dataframe tbody tr th:only-of-type {\n",
              "        vertical-align: middle;\n",
              "    }\n",
              "\n",
              "    .dataframe tbody tr th {\n",
              "        vertical-align: top;\n",
              "    }\n",
              "\n",
              "    .dataframe thead th {\n",
              "        text-align: right;\n",
              "    }\n",
              "</style>\n",
              "<table border=\"1\" class=\"dataframe\">\n",
              "  <thead>\n",
              "    <tr style=\"text-align: right;\">\n",
              "      <th></th>\n",
              "      <th>filename</th>\n",
              "      <th>fold</th>\n",
              "      <th>target</th>\n",
              "      <th>category</th>\n",
              "      <th>esc10</th>\n",
              "      <th>src_file</th>\n",
              "      <th>take</th>\n",
              "    </tr>\n",
              "  </thead>\n",
              "  <tbody>\n",
              "    <tr>\n",
              "      <th>0</th>\n",
              "      <td>1-100032-A-0.wav</td>\n",
              "      <td>1</td>\n",
              "      <td>0</td>\n",
              "      <td>dog</td>\n",
              "      <td>True</td>\n",
              "      <td>100032</td>\n",
              "      <td>A</td>\n",
              "    </tr>\n",
              "    <tr>\n",
              "      <th>1</th>\n",
              "      <td>1-100038-A-14.wav</td>\n",
              "      <td>1</td>\n",
              "      <td>14</td>\n",
              "      <td>chirping_birds</td>\n",
              "      <td>False</td>\n",
              "      <td>100038</td>\n",
              "      <td>A</td>\n",
              "    </tr>\n",
              "    <tr>\n",
              "      <th>2</th>\n",
              "      <td>1-100210-A-36.wav</td>\n",
              "      <td>1</td>\n",
              "      <td>36</td>\n",
              "      <td>vacuum_cleaner</td>\n",
              "      <td>False</td>\n",
              "      <td>100210</td>\n",
              "      <td>A</td>\n",
              "    </tr>\n",
              "    <tr>\n",
              "      <th>3</th>\n",
              "      <td>1-100210-B-36.wav</td>\n",
              "      <td>1</td>\n",
              "      <td>36</td>\n",
              "      <td>vacuum_cleaner</td>\n",
              "      <td>False</td>\n",
              "      <td>100210</td>\n",
              "      <td>B</td>\n",
              "    </tr>\n",
              "    <tr>\n",
              "      <th>4</th>\n",
              "      <td>1-101296-A-19.wav</td>\n",
              "      <td>1</td>\n",
              "      <td>19</td>\n",
              "      <td>thunderstorm</td>\n",
              "      <td>False</td>\n",
              "      <td>101296</td>\n",
              "      <td>A</td>\n",
              "    </tr>\n",
              "  </tbody>\n",
              "</table>\n",
              "</div>\n",
              "      <button class=\"colab-df-convert\" onclick=\"convertToInteractive('df-e390b297-a549-4919-b8f6-4e2b594c5feb')\"\n",
              "              title=\"Convert this dataframe to an interactive table.\"\n",
              "              style=\"display:none;\">\n",
              "        \n",
              "  <svg xmlns=\"http://www.w3.org/2000/svg\" height=\"24px\"viewBox=\"0 0 24 24\"\n",
              "       width=\"24px\">\n",
              "    <path d=\"M0 0h24v24H0V0z\" fill=\"none\"/>\n",
              "    <path d=\"M18.56 5.44l.94 2.06.94-2.06 2.06-.94-2.06-.94-.94-2.06-.94 2.06-2.06.94zm-11 1L8.5 8.5l.94-2.06 2.06-.94-2.06-.94L8.5 2.5l-.94 2.06-2.06.94zm10 10l.94 2.06.94-2.06 2.06-.94-2.06-.94-.94-2.06-.94 2.06-2.06.94z\"/><path d=\"M17.41 7.96l-1.37-1.37c-.4-.4-.92-.59-1.43-.59-.52 0-1.04.2-1.43.59L10.3 9.45l-7.72 7.72c-.78.78-.78 2.05 0 2.83L4 21.41c.39.39.9.59 1.41.59.51 0 1.02-.2 1.41-.59l7.78-7.78 2.81-2.81c.8-.78.8-2.07 0-2.86zM5.41 20L4 18.59l7.72-7.72 1.47 1.35L5.41 20z\"/>\n",
              "  </svg>\n",
              "      </button>\n",
              "      \n",
              "  <style>\n",
              "    .colab-df-container {\n",
              "      display:flex;\n",
              "      flex-wrap:wrap;\n",
              "      gap: 12px;\n",
              "    }\n",
              "\n",
              "    .colab-df-convert {\n",
              "      background-color: #E8F0FE;\n",
              "      border: none;\n",
              "      border-radius: 50%;\n",
              "      cursor: pointer;\n",
              "      display: none;\n",
              "      fill: #1967D2;\n",
              "      height: 32px;\n",
              "      padding: 0 0 0 0;\n",
              "      width: 32px;\n",
              "    }\n",
              "\n",
              "    .colab-df-convert:hover {\n",
              "      background-color: #E2EBFA;\n",
              "      box-shadow: 0px 1px 2px rgba(60, 64, 67, 0.3), 0px 1px 3px 1px rgba(60, 64, 67, 0.15);\n",
              "      fill: #174EA6;\n",
              "    }\n",
              "\n",
              "    [theme=dark] .colab-df-convert {\n",
              "      background-color: #3B4455;\n",
              "      fill: #D2E3FC;\n",
              "    }\n",
              "\n",
              "    [theme=dark] .colab-df-convert:hover {\n",
              "      background-color: #434B5C;\n",
              "      box-shadow: 0px 1px 3px 1px rgba(0, 0, 0, 0.15);\n",
              "      filter: drop-shadow(0px 1px 2px rgba(0, 0, 0, 0.3));\n",
              "      fill: #FFFFFF;\n",
              "    }\n",
              "  </style>\n",
              "\n",
              "      <script>\n",
              "        const buttonEl =\n",
              "          document.querySelector('#df-e390b297-a549-4919-b8f6-4e2b594c5feb button.colab-df-convert');\n",
              "        buttonEl.style.display =\n",
              "          google.colab.kernel.accessAllowed ? 'block' : 'none';\n",
              "\n",
              "        async function convertToInteractive(key) {\n",
              "          const element = document.querySelector('#df-e390b297-a549-4919-b8f6-4e2b594c5feb');\n",
              "          const dataTable =\n",
              "            await google.colab.kernel.invokeFunction('convertToInteractive',\n",
              "                                                     [key], {});\n",
              "          if (!dataTable) return;\n",
              "\n",
              "          const docLinkHtml = 'Like what you see? Visit the ' +\n",
              "            '<a target=\"_blank\" href=https://colab.research.google.com/notebooks/data_table.ipynb>data table notebook</a>'\n",
              "            + ' to learn more about interactive tables.';\n",
              "          element.innerHTML = '';\n",
              "          dataTable['output_type'] = 'display_data';\n",
              "          await google.colab.output.renderOutput(dataTable, element);\n",
              "          const docLink = document.createElement('div');\n",
              "          docLink.innerHTML = docLinkHtml;\n",
              "          element.appendChild(docLink);\n",
              "        }\n",
              "      </script>\n",
              "    </div>\n",
              "  </div>\n",
              "  "
            ],
            "text/plain": [
              "            filename  fold  target        category  esc10  src_file take\n",
              "0   1-100032-A-0.wav     1       0             dog   True    100032    A\n",
              "1  1-100038-A-14.wav     1      14  chirping_birds  False    100038    A\n",
              "2  1-100210-A-36.wav     1      36  vacuum_cleaner  False    100210    A\n",
              "3  1-100210-B-36.wav     1      36  vacuum_cleaner  False    100210    B\n",
              "4  1-101296-A-19.wav     1      19    thunderstorm  False    101296    A"
            ]
          },
          "metadata": {},
          "execution_count": 6
        }
      ]
    },
    {
      "cell_type": "markdown",
      "source": [
        "# **Split train & valid set**\n",
        "train set : fold 1-4\n",
        "\n",
        "valid set : fold 5"
      ],
      "metadata": {
        "id": "zbZzmaOwa5LQ"
      }
    },
    {
      "cell_type": "code",
      "source": [
        "train = df[df['fold']!=5]\n",
        "valid = df[df['fold']==5]"
      ],
      "metadata": {
        "id": "v-FsiDS7GNcS"
      },
      "execution_count": null,
      "outputs": []
    },
    {
      "cell_type": "code",
      "source": [
        "wav, sr = librosa.load('audio/1-100032-A-0.wav', sr=None)\n",
        "print(f'Sampling rate of the audio is {sr} and length of the audio is {len(wav)/sr} seconds')"
      ],
      "metadata": {
        "colab": {
          "base_uri": "https://localhost:8080/"
        },
        "id": "Q_4HpVZ-GPKM",
        "outputId": "7028f0c0-4c5b-4531-d4ab-ad776ab78cfc"
      },
      "execution_count": null,
      "outputs": [
        {
          "output_type": "stream",
          "name": "stdout",
          "text": [
            "Sampling rate of the audio is 44100 and length of the audio is 5.0 seconds\n"
          ]
        }
      ]
    },
    {
      "cell_type": "markdown",
      "source": [
        "# **轉換為梅爾譜圖Mel Spectrogram**\n",
        "> 特徵存取，將音訊檔轉為Mel Spectrogram"
      ],
      "metadata": {
        "id": "0yQoK8m_bH2u"
      }
    },
    {
      "cell_type": "code",
      "source": [
        "def get_melspectrogram_db(file_path, sr=None, n_fft=2048, hop_length=512, n_mels=128, fmin=20, fmax=8300, top_db=80):\n",
        "  wav,sr = librosa.load(file_path,sr=sr)\n",
        "  if wav.shape[0]<5*sr:\n",
        "    wav=np.pad(wav,int(np.ceil((5*sr-wav.shape[0])/2)),mode='reflect')\n",
        "  else:\n",
        "    wav=wav[:5*sr]\n",
        "  spec=librosa.feature.melspectrogram(wav, sr=sr, n_fft=n_fft,hop_length=hop_length,n_mels=n_mels,fmin=fmin,fmax=fmax)\n",
        "  spec_db=librosa.power_to_db(spec,top_db=top_db)\n",
        "  return spec_db"
      ],
      "metadata": {
        "id": "TXw0qCuXGUgs"
      },
      "execution_count": null,
      "outputs": []
    },
    {
      "cell_type": "code",
      "source": [
        "def spec_to_image(spec, eps=1e-6):\n",
        "  mean = spec.mean()\n",
        "  std = spec.std()\n",
        "  spec_norm = (spec - mean) / (std + eps)\n",
        "  spec_min, spec_max = spec_norm.min(), spec_norm.max()\n",
        "  spec_scaled = 255 * (spec_norm - spec_min) / (spec_max - spec_min)\n",
        "  spec_scaled = spec_scaled.astype(np.uint8)\n",
        "  return spec_scaled"
      ],
      "metadata": {
        "id": "VDNLm9hgGSeu"
      },
      "execution_count": null,
      "outputs": []
    },
    {
      "cell_type": "markdown",
      "source": [
        "# **Creat Dataset & DataLoader**"
      ],
      "metadata": {
        "id": "I5bkU917bpo7"
      }
    },
    {
      "cell_type": "code",
      "source": [
        "class ESC50Data(Dataset):\n",
        "  def __init__(self, base, df, in_col, out_col):\n",
        "    self.df = df\n",
        "    self.data = []\n",
        "    self.labels = []\n",
        "    self.c2i={}\n",
        "    self.i2c={}\n",
        "    self.categories = sorted(df[out_col].unique())\n",
        "    for i, category in enumerate(self.categories):\n",
        "      self.c2i[category]=i\n",
        "      self.i2c[i]=category\n",
        "    for ind in tqdm(range(len(df))):\n",
        "      row = df.iloc[ind]\n",
        "      file_path = os.path.join(base,row[in_col])\n",
        "      self.data.append(spec_to_image(get_melspectrogram_db(file_path))[np.newaxis,...])\n",
        "      self.labels.append(self.c2i[row['category']])\n",
        "  def __len__(self):\n",
        "    return len(self.data)\n",
        "  def __getitem__(self, idx):\n",
        "    return self.data[idx], self.labels[idx]"
      ],
      "metadata": {
        "id": "cTyeWJXYGzGQ"
      },
      "execution_count": null,
      "outputs": []
    },
    {
      "cell_type": "markdown",
      "source": [
        "<測試的例子，不一定要執行>"
      ],
      "metadata": {
        "id": "nEClXEbvwNX9"
      }
    },
    {
      "cell_type": "code",
      "source": [
        "filename = valid[valid['category']=='clock_tick'].iloc[0]['filename']\n",
        "wav, sr = librosa.load('audio/'+filename, sr=None)\n",
        "librosa.display.waveplot(wav, sr)"
      ],
      "metadata": {
        "colab": {
          "base_uri": "https://localhost:8080/",
          "height": 296
        },
        "id": "6j7ji6uqG3VK",
        "outputId": "3ee0f8b8-a2b2-4424-d43d-a9dee4c5b510"
      },
      "execution_count": null,
      "outputs": [
        {
          "output_type": "execute_result",
          "data": {
            "text/plain": [
              "<matplotlib.collections.PolyCollection at 0x7fd2501b3e10>"
            ]
          },
          "metadata": {},
          "execution_count": 12
        },
        {
          "output_type": "display_data",
          "data": {
            "image/png": "[encoded data removed]",
            "text/plain": [
              "<Figure size 432x288 with 1 Axes>"
            ]
          },
          "metadata": {
            "needs_background": "light"
          }
        }
      ]
    },
    {
      "cell_type": "markdown",
      "source": [
        "<測試的例子，不一定要執行>"
      ],
      "metadata": {
        "id": "hfz4mA46wZCe"
      }
    },
    {
      "cell_type": "code",
      "source": [
        "librosa.display.specshow(spec_to_image(get_melspectrogram_db('audio/'+filename, sr)), cmap='viridis')"
      ],
      "metadata": {
        "colab": {
          "base_uri": "https://localhost:8080/",
          "height": 269
        },
        "id": "sZpw61HZG6qH",
        "outputId": "30f891c3-0610-4b2b-b61e-49966f40b42e"
      },
      "execution_count": null,
      "outputs": [
        {
          "output_type": "execute_result",
          "data": {
            "text/plain": [
              "<matplotlib.collections.QuadMesh at 0x7fd2501c8050>"
            ]
          },
          "metadata": {},
          "execution_count": 13
        },
        {
          "output_type": "display_data",
          "data": {
            "image/png": "[encoded data removed]",
            "text/plain": [
              "<Figure size 432x288 with 1 Axes>"
            ]
          },
          "metadata": {}
        }
      ]
    },
    {
      "cell_type": "code",
      "source": [
        "train_data = ESC50Data('audio', train, 'filename', 'category')"
      ],
      "metadata": {
        "colab": {
          "base_uri": "https://localhost:8080/",
          "height": 100,
          "referenced_widgets": [
            "bd89b3f9c5e24a83a544bea33cd9dbb7",
            "c27d52249c3d4cf2ba00dc87110c9339",
            "00539239fcbf4f8a92db8dc1f72197a6",
            "9be4864129354f8d81e8bca53eb75d25",
            "02cb8073dfd14a9c89d354f3a41b9327",
            "f8bfff4fe1274265b7c510ca8abd0bf2",
            "4d569a5931894d28962f0ed41603cac2",
            "7514a9efba044ff0af862b0b6b493f0e",
            "cdac4cd6a5414bc487e095444decc6a4",
            "4f643c16bf9046b3a152ff5fc5d6c52e",
            "6639b84d0a86469f9bd41798951833cb"
          ]
        },
        "id": "CFgwanWrG9C2",
        "outputId": "71ac8b45-752c-438c-d585-303df9311c74"
      },
      "execution_count": null,
      "outputs": [
        {
          "output_type": "stream",
          "name": "stderr",
          "text": [
            "/usr/local/lib/python3.7/dist-packages/ipykernel_launcher.py:12: TqdmDeprecationWarning: This function will be removed in tqdm==5.0.0\n",
            "Please use `tqdm.notebook.tqdm` instead of `tqdm.tqdm_notebook`\n",
            "  if sys.path[0] == '':\n"
          ]
        },
        {
          "output_type": "display_data",
          "data": {
            "application/vnd.jupyter.widget-view+json": {
              "model_id": "bd89b3f9c5e24a83a544bea33cd9dbb7",
              "version_minor": 0,
              "version_major": 2
            },
            "text/plain": [
              "  0%|          | 0/1600 [00:00<?, ?it/s]"
            ]
          },
          "metadata": {}
        }
      ]
    },
    {
      "cell_type": "code",
      "source": [
        "valid_data = ESC50Data('audio', valid, 'filename', 'category')"
      ],
      "metadata": {
        "colab": {
          "base_uri": "https://localhost:8080/",
          "height": 100,
          "referenced_widgets": [
            "46f2a802cd744955a57babfd05e39686",
            "f7605673ed324fafb392c30f2d03d180",
            "f6851c10704544ea9d1773c877e50f13",
            "17737e249f2f41eba3ead6b04d1f1ad4",
            "4bc771f94df34e719d029b23a3f4f6f7",
            "cb0a6381dd4447beb2719abbc0665660",
            "02a5a023ac29407d843ee3304deefbc3",
            "bbf1a936f80a47e69510e3d1b68ad0d4",
            "9e495560bdcc436cadaddf196d391d5e",
            "be89b2f16e96416487c160a338af21eb",
            "2338f3a7753344c8aed510158fa03a84"
          ]
        },
        "id": "hdOQAxrcHDoI",
        "outputId": "72594edf-e477-4ad6-c2d3-d0abd33726c6"
      },
      "execution_count": null,
      "outputs": [
        {
          "output_type": "stream",
          "name": "stderr",
          "text": [
            "/usr/local/lib/python3.7/dist-packages/ipykernel_launcher.py:12: TqdmDeprecationWarning: This function will be removed in tqdm==5.0.0\n",
            "Please use `tqdm.notebook.tqdm` instead of `tqdm.tqdm_notebook`\n",
            "  if sys.path[0] == '':\n"
          ]
        },
        {
          "output_type": "display_data",
          "data": {
            "application/vnd.jupyter.widget-view+json": {
              "model_id": "46f2a802cd744955a57babfd05e39686",
              "version_minor": 0,
              "version_major": 2
            },
            "text/plain": [
              "  0%|          | 0/400 [00:00<?, ?it/s]"
            ]
          },
          "metadata": {}
        }
      ]
    },
    {
      "cell_type": "code",
      "source": [
        "train_loader = DataLoader(train_data, batch_size=16, shuffle=True)\n",
        "valid_loader = DataLoader(valid_data, batch_size=16, shuffle=True)"
      ],
      "metadata": {
        "id": "kwZA28XgHHTr"
      },
      "execution_count": null,
      "outputs": []
    },
    {
      "cell_type": "code",
      "source": [
        "if torch.cuda.is_available():\n",
        "  device=torch.device('cuda:0')\n",
        "else:\n",
        "  device=torch.device('cpu')"
      ],
      "metadata": {
        "id": "xdfDgFkjHIrQ"
      },
      "execution_count": null,
      "outputs": []
    },
    {
      "cell_type": "markdown",
      "source": [
        "# **Model**\n",
        "> 更改Resnet50模型 (fc):輸出特徵變成50個\n",
        "\n",
        "> 更改Resnet50模型 (conv1):三通道變成一通道"
      ],
      "metadata": {
        "id": "Ep33DzhOcIhh"
      }
    },
    {
      "cell_type": "code",
      "source": [
        "from torchvision.models import resnet50\n",
        "resnet_model = resnet50(pretrained=True)\n",
        "resnet_model.fc = nn.Linear(2048,50)\n",
        "resnet_model.conv1 = nn.Conv2d(1, 64, kernel_size=(7, 7), stride=(2, 2), padding=(3, 3), bias=False)\n",
        "resnet_model = resnet_model.to(device)"
      ],
      "metadata": {
        "id": "j8YHLp28HtB9"
      },
      "execution_count": null,
      "outputs": []
    },
    {
      "cell_type": "markdown",
      "source": [
        "# **Train**\n",
        "> setlr: 決定Optimizer的學習速率變化的函式\n",
        "\n",
        "> lr_decay: 每10個epochs縮減其learning rate至1/10倍\n"
      ],
      "metadata": {
        "id": "PU70ibPSb7FJ"
      }
    },
    {
      "cell_type": "code",
      "source": [
        "def setlr(optimizer, lr):\n",
        "  for param_group in optimizer.param_groups:\n",
        "    param_group['lr'] = lr\n",
        "  return optimizer"
      ],
      "metadata": {
        "id": "jK411s9DHLaB"
      },
      "execution_count": null,
      "outputs": []
    },
    {
      "cell_type": "code",
      "source": [
        "def train(model, loss_fn, train_loader, valid_loader, epochs, optimizer, train_losses, valid_losses, valid_acc, change_lr=None):\n",
        "  for epoch in tqdm(range(1,epochs+1)):\n",
        "    model.train()\n",
        "    batch_losses=[]\n",
        "    if change_lr:\n",
        "      optimizer = change_lr(optimizer, epoch)\n",
        "    for i, data in enumerate(train_loader):\n",
        "      x, y = data\n",
        "      optimizer.zero_grad()\n",
        "      x = x.to(device, dtype=torch.float32)\n",
        "      y = y.to(device, dtype=torch.long)\n",
        "      y_hat = model(x)\n",
        "      loss = loss_fn(y_hat, y)\n",
        "      loss.backward()\n",
        "      batch_losses.append(loss.item())\n",
        "      optimizer.step()\n",
        "    train_losses.append(batch_losses)\n",
        "    print(f'Epoch - {epoch} Train-Loss : {np.mean(train_losses[-1])}')\n",
        "    model.eval()\n",
        "    batch_losses=[]\n",
        "    trace_y = []\n",
        "    trace_yhat = []\n",
        "    acc=[]\n",
        "    for i, data in enumerate(valid_loader):\n",
        "      x, y = data\n",
        "      x = x.to(device, dtype=torch.float32)\n",
        "      y = y.to(device, dtype=torch.long)\n",
        "      y_hat = model(x)\n",
        "      loss = loss_fn(y_hat, y)\n",
        "      trace_y.append(y.cpu().detach().numpy())\n",
        "      trace_yhat.append(y_hat.cpu().detach().numpy())      \n",
        "      batch_losses.append(loss.item())\n",
        "    valid_losses.append(batch_losses)\n",
        "    trace_y = np.concatenate(trace_y)\n",
        "    trace_yhat = np.concatenate(trace_yhat)\n",
        "    accuracy = np.mean(trace_yhat.argmax(axis=1)==trace_y)\n",
        "    valid_acc.append(accuracy)\n",
        "    print(f'Epoch - {epoch} Valid-Loss : {np.mean(valid_losses[-1])} Valid-Accuracy : {accuracy}')"
      ],
      "metadata": {
        "id": "SYRDg9JEHThG"
      },
      "execution_count": null,
      "outputs": []
    },
    {
      "cell_type": "code",
      "source": [
        "learning_rate = 1e-4\n",
        "optimizer = optim.Adam(resnet_model.parameters(), lr=learning_rate, weight_decay=1e-3)\n",
        "epochs = 100\n",
        "loss_fn = nn.CrossEntropyLoss()\n",
        "resnet_train_losses=[]\n",
        "resnet_valid_losses=[]\n",
        "resnet_valid_acc=[]\n",
        "def lr_decay(optimizer, epoch):\n",
        "  if epoch%10==0:\n",
        "    new_lr = learning_rate / (10**(epoch//10))\n",
        "    optimizer = setlr(optimizer, new_lr)\n",
        "    print(f'Changed learning rate to {new_lr}')\n",
        "  return optimizer\n",
        "train(resnet_model, loss_fn, train_loader, valid_loader, epochs, optimizer, resnet_train_losses, resnet_valid_losses, resnet_valid_acc, lr_decay)"
      ],
      "metadata": {
        "colab": {
          "base_uri": "https://localhost:8080/",
          "height": 1000,
          "referenced_widgets": [
            "b70c5d82574c4aefaccceaac99789065",
            "fd96133ab3ed461bb2a8764ef4bda112",
            "c2c109051a524d4d919cf4ce9e1e223c",
            "3e3d323d53f140c385776e3cc4f94755",
            "6e873dc3116648898c7861bddfda48d9",
            "6243747c006e4b488d141e6b05be2a2b",
            "8d4717d46d6044cfb5ecdf92f724618c",
            "0adaf170980b43a8b13748e33723aa03",
            "8607b2828b57491b8eb4c53f58a671fa",
            "dbb2f4b27032420690d451d0c1e026d5",
            "0bf60ab51f0e4623a072a3040a79e484"
          ]
        },
        "id": "enmH8vlMHbJl",
        "outputId": "047d5b84-7203-4a75-c4e2-e7c7255bc564"
      },
      "execution_count": null,
      "outputs": [
        {
          "output_type": "stream",
          "name": "stderr",
          "text": [
            "/usr/local/lib/python3.7/dist-packages/ipykernel_launcher.py:2: TqdmDeprecationWarning: This function will be removed in tqdm==5.0.0\n",
            "Please use `tqdm.notebook.tqdm` instead of `tqdm.tqdm_notebook`\n",
            "  \n"
          ]
        },
        {
          "output_type": "display_data",
          "data": {
            "application/vnd.jupyter.widget-view+json": {
              "model_id": "b70c5d82574c4aefaccceaac99789065",
              "version_minor": 0,
              "version_major": 2
            },
            "text/plain": [
              "  0%|          | 0/100 [00:00<?, ?it/s]"
            ]
          },
          "metadata": {}
        },
        {
          "output_type": "stream",
          "name": "stdout",
          "text": [
            "Epoch - 1 Train-Loss : 2.9777307391166685\n",
            "Epoch - 1 Valid-Loss : 2.0614177997295675 Valid-Accuracy : 0.4875\n",
            "Epoch - 2 Train-Loss : 1.37555251121521\n",
            "Epoch - 2 Valid-Loss : 1.4914372334113488 Valid-Accuracy : 0.625\n",
            "Epoch - 3 Train-Loss : 0.7167693412303925\n",
            "Epoch - 3 Valid-Loss : 1.2786799990213835 Valid-Accuracy : 0.6325\n",
            "Epoch - 4 Train-Loss : 0.4050765484571457\n",
            "Epoch - 4 Valid-Loss : 1.22993803024292 Valid-Accuracy : 0.6525\n",
            "Epoch - 5 Train-Loss : 0.25159311458468436\n",
            "Epoch - 5 Valid-Loss : 1.1440248993726878 Valid-Accuracy : 0.67\n",
            "Epoch - 6 Train-Loss : 0.15922144807875158\n",
            "Epoch - 6 Valid-Loss : 1.0599370644642756 Valid-Accuracy : 0.725\n",
            "Epoch - 7 Train-Loss : 0.0973091808706522\n",
            "Epoch - 7 Valid-Loss : 1.055173057776231 Valid-Accuracy : 0.72\n",
            "Epoch - 8 Train-Loss : 0.05177879571914673\n",
            "Epoch - 8 Valid-Loss : 1.0393425959807177 Valid-Accuracy : 0.72\n",
            "Epoch - 9 Train-Loss : 0.07032648578286171\n",
            "Epoch - 9 Valid-Loss : 1.1475487901614263 Valid-Accuracy : 0.6825\n",
            "Changed learning rate to 1e-05\n",
            "Epoch - 10 Train-Loss : 0.059479957669973375\n",
            "Epoch - 10 Valid-Loss : 0.9203245869049659 Valid-Accuracy : 0.7425\n",
            "Epoch - 11 Train-Loss : 0.03003125939518213\n",
            "Epoch - 11 Valid-Loss : 0.9159283844324259 Valid-Accuracy : 0.7475\n",
            "Epoch - 12 Train-Loss : 0.02093590848147869\n",
            "Epoch - 12 Valid-Loss : 0.8906163894213163 Valid-Accuracy : 0.7525\n",
            "Epoch - 13 Train-Loss : 0.022972765108570457\n",
            "Epoch - 13 Valid-Loss : 0.9073499005574447 Valid-Accuracy : 0.7525\n",
            "Epoch - 14 Train-Loss : 0.018646127451211213\n",
            "Epoch - 14 Valid-Loss : 0.8846345268763028 Valid-Accuracy : 0.755\n",
            "Epoch - 15 Train-Loss : 0.01533060597255826\n",
            "Epoch - 15 Valid-Loss : 0.9045166877599863 Valid-Accuracy : 0.76\n",
            "Epoch - 16 Train-Loss : 0.014137616381049156\n",
            "Epoch - 16 Valid-Loss : 0.8864455154308906 Valid-Accuracy : 0.765\n",
            "Epoch - 17 Train-Loss : 0.017938855942338704\n",
            "Epoch - 17 Valid-Loss : 0.8514813565864012 Valid-Accuracy : 0.77\n",
            "Epoch - 18 Train-Loss : 0.01387977572157979\n",
            "Epoch - 18 Valid-Loss : 0.8620676879699414 Valid-Accuracy : 0.7675\n",
            "Epoch - 19 Train-Loss : 0.011976041011512279\n",
            "Epoch - 19 Valid-Loss : 0.8519653356992282 Valid-Accuracy : 0.7775\n",
            "Changed learning rate to 1e-06\n",
            "Epoch - 20 Train-Loss : 0.013588831946253776\n",
            "Epoch - 20 Valid-Loss : 0.8809510882084186 Valid-Accuracy : 0.7725\n",
            "Epoch - 21 Train-Loss : 0.013445270750671624\n",
            "Epoch - 21 Valid-Loss : 0.8607741135817307 Valid-Accuracy : 0.7775\n",
            "Epoch - 22 Train-Loss : 0.013078612349927425\n",
            "Epoch - 22 Valid-Loss : 0.8830956908372732 Valid-Accuracy : 0.7675\n",
            "Epoch - 23 Train-Loss : 0.01407562124542892\n",
            "Epoch - 23 Valid-Loss : 0.8774250149726868 Valid-Accuracy : 0.7625\n",
            "Epoch - 24 Train-Loss : 0.012598295724019408\n",
            "Epoch - 24 Valid-Loss : 0.9184942428882306 Valid-Accuracy : 0.7625\n",
            "Epoch - 25 Train-Loss : 0.013101515285670757\n",
            "Epoch - 25 Valid-Loss : 0.8760888714056748 Valid-Accuracy : 0.7675\n",
            "Epoch - 26 Train-Loss : 0.012631116341799498\n",
            "Epoch - 26 Valid-Loss : 0.8421284097891587 Valid-Accuracy : 0.77\n",
            "Epoch - 27 Train-Loss : 0.011851502172648907\n",
            "Epoch - 27 Valid-Loss : 0.8654534358244675 Valid-Accuracy : 0.7725\n",
            "Epoch - 28 Train-Loss : 0.011707844147458672\n",
            "Epoch - 28 Valid-Loss : 0.886043002972236 Valid-Accuracy : 0.7725\n",
            "Epoch - 29 Train-Loss : 0.012692044004797936\n",
            "Epoch - 29 Valid-Loss : 0.8665365485044626 Valid-Accuracy : 0.765\n",
            "Changed learning rate to 1.0000000000000001e-07\n",
            "Epoch - 30 Train-Loss : 0.01244900854304433\n",
            "Epoch - 30 Valid-Loss : 0.8475681451650766 Valid-Accuracy : 0.7625\n",
            "Epoch - 31 Train-Loss : 0.012875433331355452\n",
            "Epoch - 31 Valid-Loss : 0.8754694301348466 Valid-Accuracy : 0.7625\n",
            "Epoch - 32 Train-Loss : 0.011849754936993123\n",
            "Epoch - 32 Valid-Loss : 0.8591978687506455 Valid-Accuracy : 0.765\n",
            "Epoch - 33 Train-Loss : 0.012887012185528875\n",
            "Epoch - 33 Valid-Loss : 0.9104232100340036 Valid-Accuracy : 0.7625\n",
            "Epoch - 34 Train-Loss : 0.011833984386175871\n",
            "Epoch - 34 Valid-Loss : 0.8782714100984427 Valid-Accuracy : 0.7675\n",
            "Epoch - 35 Train-Loss : 0.011143355332314968\n",
            "Epoch - 35 Valid-Loss : 0.857763409614563 Valid-Accuracy : 0.77\n",
            "Epoch - 36 Train-Loss : 0.01247795150615275\n",
            "Epoch - 36 Valid-Loss : 0.8531900919400729 Valid-Accuracy : 0.765\n",
            "Epoch - 37 Train-Loss : 0.012515262058004737\n",
            "Epoch - 37 Valid-Loss : 0.8541472783455482 Valid-Accuracy : 0.77\n",
            "Epoch - 38 Train-Loss : 0.012168313302099705\n",
            "Epoch - 38 Valid-Loss : 0.8910906956746028 Valid-Accuracy : 0.7625\n",
            "Epoch - 39 Train-Loss : 0.011956864222884177\n",
            "Epoch - 39 Valid-Loss : 0.8602246665037595 Valid-Accuracy : 0.7725\n",
            "Changed learning rate to 1e-08\n",
            "Epoch - 40 Train-Loss : 0.012465635063126684\n",
            "Epoch - 40 Valid-Loss : 0.8503627135203435 Valid-Accuracy : 0.7675\n",
            "Epoch - 41 Train-Loss : 0.011764470068737865\n",
            "Epoch - 41 Valid-Loss : 0.8587246651832874 Valid-Accuracy : 0.7625\n",
            "Epoch - 42 Train-Loss : 0.01406755411066115\n",
            "Epoch - 42 Valid-Loss : 0.8622833948868972 Valid-Accuracy : 0.765\n",
            "Epoch - 43 Train-Loss : 0.013215737314894796\n",
            "Epoch - 43 Valid-Loss : 0.8750644188660842 Valid-Accuracy : 0.765\n",
            "Epoch - 44 Train-Loss : 0.011968379970639945\n",
            "Epoch - 44 Valid-Loss : 0.8678244031392611 Valid-Accuracy : 0.7675\n",
            "Epoch - 45 Train-Loss : 0.01283333519473672\n",
            "Epoch - 45 Valid-Loss : 0.8970871682350452 Valid-Accuracy : 0.755\n",
            "Epoch - 46 Train-Loss : 0.01407998664304614\n",
            "Epoch - 46 Valid-Loss : 0.8900211728536166 Valid-Accuracy : 0.755\n",
            "Epoch - 47 Train-Loss : 0.01209053859114647\n",
            "Epoch - 47 Valid-Loss : 0.863746913579794 Valid-Accuracy : 0.7675\n",
            "Epoch - 48 Train-Loss : 0.012524331156164407\n",
            "Epoch - 48 Valid-Loss : 0.9132005067972037 Valid-Accuracy : 0.77\n",
            "Epoch - 49 Train-Loss : 0.012560610258951783\n",
            "Epoch - 49 Valid-Loss : 0.8644589094015268 Valid-Accuracy : 0.765\n",
            "Changed learning rate to 1e-09\n",
            "Epoch - 50 Train-Loss : 0.013506003385409714\n",
            "Epoch - 50 Valid-Loss : 0.8465147797877972 Valid-Accuracy : 0.7675\n",
            "Epoch - 51 Train-Loss : 0.01343982663936913\n",
            "Epoch - 51 Valid-Loss : 0.8372081048213519 Valid-Accuracy : 0.775\n",
            "Epoch - 52 Train-Loss : 0.011855378029868007\n",
            "Epoch - 52 Valid-Loss : 0.8525951894430014 Valid-Accuracy : 0.7675\n",
            "Epoch - 53 Train-Loss : 0.013326191110536456\n",
            "Epoch - 53 Valid-Loss : 0.8597048429342417 Valid-Accuracy : 0.775\n",
            "Epoch - 54 Train-Loss : 0.012344538616016507\n",
            "Epoch - 54 Valid-Loss : 0.878007920888754 Valid-Accuracy : 0.765\n",
            "Epoch - 55 Train-Loss : 0.012595181046053767\n",
            "Epoch - 55 Valid-Loss : 0.8420707216629615 Valid-Accuracy : 0.78\n",
            "Epoch - 56 Train-Loss : 0.014047957733273506\n",
            "Epoch - 56 Valid-Loss : 0.876781688286708 Valid-Accuracy : 0.7625\n",
            "Epoch - 57 Train-Loss : 0.01394179387949407\n",
            "Epoch - 57 Valid-Loss : 0.879428322498615 Valid-Accuracy : 0.7775\n",
            "Epoch - 58 Train-Loss : 0.012052871752530336\n",
            "Epoch - 58 Valid-Loss : 0.8526568206456991 Valid-Accuracy : 0.775\n",
            "Epoch - 59 Train-Loss : 0.011237322119995952\n",
            "Epoch - 59 Valid-Loss : 0.8575651049613953 Valid-Accuracy : 0.77\n",
            "Changed learning rate to 1e-10\n",
            "Epoch - 60 Train-Loss : 0.012144947042688727\n",
            "Epoch - 60 Valid-Loss : 0.864684311243204 Valid-Accuracy : 0.7675\n",
            "Epoch - 61 Train-Loss : 0.011322965603321791\n",
            "Epoch - 61 Valid-Loss : 0.8696012290624472 Valid-Accuracy : 0.765\n",
            "Epoch - 62 Train-Loss : 0.012553061954677106\n",
            "Epoch - 62 Valid-Loss : 0.8651215800872216 Valid-Accuracy : 0.7725\n",
            "Epoch - 63 Train-Loss : 0.01278119402937591\n",
            "Epoch - 63 Valid-Loss : 0.8409685928087968 Valid-Accuracy : 0.78\n",
            "Epoch - 64 Train-Loss : 0.012773593943566084\n",
            "Epoch - 64 Valid-Loss : 0.8854978222113389 Valid-Accuracy : 0.7725\n",
            "Epoch - 65 Train-Loss : 0.010826387805864215\n",
            "Epoch - 65 Valid-Loss : 0.8786983031492966 Valid-Accuracy : 0.77\n",
            "Epoch - 66 Train-Loss : 0.011538828937336803\n",
            "Epoch - 66 Valid-Loss : 0.8971346937693082 Valid-Accuracy : 0.7675\n",
            "Epoch - 67 Train-Loss : 0.01281591626815498\n",
            "Epoch - 67 Valid-Loss : 0.8638374255253718 Valid-Accuracy : 0.7675\n",
            "Epoch - 68 Train-Loss : 0.012097727041691542\n",
            "Epoch - 68 Valid-Loss : 0.9085214757002317 Valid-Accuracy : 0.765\n",
            "Epoch - 69 Train-Loss : 0.01355947820469737\n",
            "Epoch - 69 Valid-Loss : 0.8549799919128418 Valid-Accuracy : 0.7675\n",
            "Changed learning rate to 1.0000000000000001e-11\n",
            "Epoch - 70 Train-Loss : 0.013889450524002313\n",
            "Epoch - 70 Valid-Loss : 0.8509590029716492 Valid-Accuracy : 0.77\n",
            "Epoch - 71 Train-Loss : 0.012116319723427296\n",
            "Epoch - 71 Valid-Loss : 0.8743724066477555 Valid-Accuracy : 0.7675\n",
            "Epoch - 72 Train-Loss : 0.012072615092620254\n",
            "Epoch - 72 Valid-Loss : 0.8967808118233314 Valid-Accuracy : 0.775\n",
            "Epoch - 73 Train-Loss : 0.01245986540801823\n",
            "Epoch - 73 Valid-Loss : 0.8960617872384878 Valid-Accuracy : 0.77\n",
            "Epoch - 74 Train-Loss : 0.011807002555578948\n",
            "Epoch - 74 Valid-Loss : 0.8588672738808852 Valid-Accuracy : 0.7725\n",
            "Epoch - 75 Train-Loss : 0.011953125530853868\n",
            "Epoch - 75 Valid-Loss : 0.8868651940272405 Valid-Accuracy : 0.7625\n",
            "Epoch - 76 Train-Loss : 0.012432089615613222\n",
            "Epoch - 76 Valid-Loss : 0.8625635275473962 Valid-Accuracy : 0.7675\n",
            "Epoch - 77 Train-Loss : 0.01302367971278727\n",
            "Epoch - 77 Valid-Loss : 0.8660689408962543 Valid-Accuracy : 0.7625\n",
            "Epoch - 78 Train-Loss : 0.015929258912801742\n",
            "Epoch - 78 Valid-Loss : 0.8689035544028649 Valid-Accuracy : 0.7575\n",
            "Epoch - 79 Train-Loss : 0.012530694995075465\n",
            "Epoch - 79 Valid-Loss : 0.8703321699912732 Valid-Accuracy : 0.775\n",
            "Changed learning rate to 1e-12\n",
            "Epoch - 80 Train-Loss : 0.012857065116986633\n",
            "Epoch - 80 Valid-Loss : 0.8589333043648646 Valid-Accuracy : 0.765\n",
            "Epoch - 81 Train-Loss : 0.012857010569423438\n",
            "Epoch - 81 Valid-Loss : 0.8613122747494624 Valid-Accuracy : 0.77\n",
            "Epoch - 82 Train-Loss : 0.01193203454837203\n",
            "Epoch - 82 Valid-Loss : 0.8815013537040124 Valid-Accuracy : 0.765\n",
            "Epoch - 83 Train-Loss : 0.012440798729658127\n",
            "Epoch - 83 Valid-Loss : 0.8517235953074235 Valid-Accuracy : 0.765\n",
            "Epoch - 84 Train-Loss : 0.01384685656055808\n",
            "Epoch - 84 Valid-Loss : 0.8493060377927927 Valid-Accuracy : 0.7625\n",
            "Epoch - 85 Train-Loss : 0.013085624687373638\n",
            "Epoch - 85 Valid-Loss : 0.853558395917599 Valid-Accuracy : 0.7625\n",
            "Epoch - 86 Train-Loss : 0.013123962013050914\n",
            "Epoch - 86 Valid-Loss : 0.868380422775562 Valid-Accuracy : 0.76\n",
            "Epoch - 87 Train-Loss : 0.011675312379375101\n",
            "Epoch - 87 Valid-Loss : 0.8619062487895672 Valid-Accuracy : 0.7725\n",
            "Epoch - 88 Train-Loss : 0.012170657254755498\n",
            "Epoch - 88 Valid-Loss : 0.8492909142604241 Valid-Accuracy : 0.7675\n",
            "Epoch - 89 Train-Loss : 0.012385773416608572\n",
            "Epoch - 89 Valid-Loss : 0.8647958865532508 Valid-Accuracy : 0.7625\n",
            "Changed learning rate to 1e-13\n",
            "Epoch - 90 Train-Loss : 0.011588870380073786\n",
            "Epoch - 90 Valid-Loss : 0.848165899515152 Valid-Accuracy : 0.7675\n",
            "Epoch - 91 Train-Loss : 0.013088557049632072\n",
            "Epoch - 91 Valid-Loss : 0.8646602882788732 Valid-Accuracy : 0.76\n",
            "Epoch - 92 Train-Loss : 0.013246279181912542\n",
            "Epoch - 92 Valid-Loss : 0.8765551998065069 Valid-Accuracy : 0.7675\n",
            "Epoch - 93 Train-Loss : 0.013360921069979667\n",
            "Epoch - 93 Valid-Loss : 0.8714965444344741 Valid-Accuracy : 0.77\n",
            "Epoch - 94 Train-Loss : 0.011636075675487518\n",
            "Epoch - 94 Valid-Loss : 0.87241753248068 Valid-Accuracy : 0.765\n",
            "Epoch - 95 Train-Loss : 0.011331776482984423\n",
            "Epoch - 95 Valid-Loss : 0.8641238854481623 Valid-Accuracy : 0.7675\n",
            "Epoch - 96 Train-Loss : 0.011295562079176306\n",
            "Epoch - 96 Valid-Loss : 0.8795941930550796 Valid-Accuracy : 0.7725\n",
            "Epoch - 97 Train-Loss : 0.012754914388060569\n",
            "Epoch - 97 Valid-Loss : 0.8810520195044004 Valid-Accuracy : 0.765\n",
            "Epoch - 98 Train-Loss : 0.014183717127889395\n",
            "Epoch - 98 Valid-Loss : 0.855725306731004 Valid-Accuracy : 0.7725\n",
            "Epoch - 99 Train-Loss : 0.011625569062307477\n",
            "Epoch - 99 Valid-Loss : 0.8607634214254526 Valid-Accuracy : 0.7725\n",
            "Changed learning rate to 1e-14\n",
            "Epoch - 100 Train-Loss : 0.011611975347623229\n",
            "Epoch - 100 Valid-Loss : 0.8807185292243958 Valid-Accuracy : 0.765\n"
          ]
        }
      ]
    },
    {
      "cell_type": "code",
      "source": [
        "tl = np.asarray(resnet_train_losses).ravel()\n",
        "vl = np.asarray(resnet_valid_losses).ravel()\n",
        "vl_acc = np.asarray(resnet_valid_acc).ravel()\n",
        "plt.figure(figsize=(20,6))\n",
        "plt.subplot(1,3,1)\n",
        "plt.plot(tl)\n",
        "plt.legend(['Train Loss'])\n",
        "plt.subplot(1,3,2)\n",
        "plt.plot(vl,'orange')\n",
        "plt.legend(['Valid Loss'])\n",
        "plt.subplot(1,3,3)\n",
        "plt.plot(vl_acc)\n",
        "plt.legend(['Valid Accuracy'])"
      ],
      "metadata": {
        "id": "g9oBYzZKHuTR",
        "colab": {
          "base_uri": "https://localhost:8080/",
          "height": 375
        },
        "outputId": "5fd4f011-e32a-4eb9-d38c-f8718c43ed80"
      },
      "execution_count": null,
      "outputs": [
        {
          "output_type": "execute_result",
          "data": {
            "text/plain": [
              "<matplotlib.legend.Legend at 0x7fd238e50810>"
            ]
          },
          "metadata": {},
          "execution_count": 32
        },
        {
          "output_type": "display_data",
          "data": {
            "image/png": "[encoded data removed]",
            "text/plain": [
              "<Figure size 1728x432 with 3 Axes>"
            ]
          },
          "metadata": {
            "needs_background": "light"
          }
        }
      ]
    },
    {
      "cell_type": "markdown",
      "source": [
        "# **Save model & data**"
      ],
      "metadata": {
        "id": "RjeZnIDacbgS"
      }
    },
    {
      "cell_type": "code",
      "source": [
        "with open('esc50resnet.pth','wb') as f:\n",
        "  torch.save(resnet_model, f)"
      ],
      "metadata": {
        "id": "OaXjEOnwH14J"
      },
      "execution_count": null,
      "outputs": []
    },
    {
      "cell_type": "code",
      "source": [
        "import pickle\n",
        "with open('indtocat.pkl','wb') as f:\n",
        "  pickle.dump(train_data.i2c, f)"
      ],
      "metadata": {
        "id": "iZU5bzJRH2iK"
      },
      "execution_count": null,
      "outputs": []
    }
  ]
}